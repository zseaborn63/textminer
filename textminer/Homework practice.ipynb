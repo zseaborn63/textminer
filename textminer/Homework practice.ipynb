{
 "cells": [
  {
   "cell_type": "code",
   "execution_count": 3,
   "metadata": {
    "collapsed": true
   },
   "outputs": [],
   "source": [
    "import re"
   ]
  },
  {
   "cell_type": "code",
   "execution_count": 54,
   "metadata": {
    "collapsed": false
   },
   "outputs": [],
   "source": [
    "def words(some_words):\n",
    "    wordy = re.findall(r\"(\\w\\S+[^0-9])\", some_words)\n",
    "    if wordy == []:\n",
    "        return None\n",
    "    else:\n",
    "        return wordy"
   ]
  },
  {
   "cell_type": "code",
   "execution_count": 55,
   "metadata": {
    "collapsed": false
   },
   "outputs": [
    {
     "data": {
      "text/plain": [
       "['18-wheeler ', 'tarbox']"
      ]
     },
     "execution_count": 55,
     "metadata": {},
     "output_type": "execute_result"
    }
   ],
   "source": [
    "words(\"18-wheeler tarbox\")"
   ]
  },
  {
   "cell_type": "code",
   "execution_count": 56,
   "metadata": {
    "collapsed": false
   },
   "outputs": [],
   "source": [
    "words(\"12\")"
   ]
  },
  {
   "cell_type": "code",
   "execution_count": 125,
   "metadata": {
    "collapsed": false
   },
   "outputs": [],
   "source": [
    "def phone_number(some_nums):\n",
    "    good_num = re.search(r\"\\(?(\\d{3})\\)?[-. ]?(\\d{3})[-. ]?(\\d{4})\", some_nums)\n",
    "    if good_num:\n",
    "        return {\"area_code\": \"{}\".format(*good_num.groups()), \"number\": \"{}-{}\".format(*good_num.groups())}\n",
    "    else:\n",
    "        return None"
   ]
  },
  {
   "cell_type": "code",
   "execution_count": 126,
   "metadata": {
    "collapsed": false
   },
   "outputs": [],
   "source": [
    "phone_number(\"555-121\")"
   ]
  },
  {
   "cell_type": "code",
   "execution_count": 127,
   "metadata": {
    "collapsed": false
   },
   "outputs": [
    {
     "data": {
      "text/plain": [
       "{'area_code': '919', 'number': '919-555'}"
      ]
     },
     "execution_count": 127,
     "metadata": {},
     "output_type": "execute_result"
    }
   ],
   "source": [
    "phone_number(\"919.555.1212\")"
   ]
  },
  {
   "cell_type": "code",
   "execution_count": 266,
   "metadata": {
    "collapsed": false
   },
   "outputs": [],
   "source": [
    "def money(some_money):\n",
    "    good_symbol = re.search(r\"(^\\W)\", some_money)\n",
    "    good_money = re.findall(r\"(\\d*\\.?\\d+?)\", some_money)\n",
    "    print(good_money)\n",
    "    if not good_symbol:\n",
    "        return None\n",
    "    if good_symbol:\n",
    "        if len(good_symbol.group(1)) != 1:\n",
    "            return None\n",
    "    if good_money == []:\n",
    "        return None\n",
    "    if len(good_money) > 1:\n",
    "        if len(good_money[-1]) != 1:\n",
    "            return None\n",
    "        if len(good_money[-2]) < 5:\n",
    "            return None\n",
    "        else:\n",
    "            good_num = \"\".join(good_money)\n",
    "        good_num = float(good_num)\n",
    "        return {'currency': good_symbol.group(1), 'amount': good_num}\n",
    "    else:\n",
    "        good_num = \"\".join(good_money)\n",
    "        good_num = float(good_num)\n",
    "        return {'currency': good_symbol.group(1), 'amount': good_num}"
   ]
  },
  {
   "cell_type": "code",
   "execution_count": 267,
   "metadata": {
    "collapsed": false
   },
   "outputs": [
    {
     "name": "stdout",
     "output_type": "stream",
     "text": [
      "['31']\n"
     ]
    },
    {
     "data": {
      "text/plain": [
       "{'amount': 31.0, 'currency': '$'}"
      ]
     },
     "execution_count": 267,
     "metadata": {},
     "output_type": "execute_result"
    }
   ],
   "source": [
    "money(\"$$31\")"
   ]
  },
  {
   "cell_type": "code",
   "execution_count": 121,
   "metadata": {
    "collapsed": false
   },
   "outputs": [],
   "source": [
    "def zipcode(some_zip):\n",
    "    x = re.search(r\"(\\d{5})-?(\\d{0,4})?\", some_zip)\n",
    "    if x:\n",
    "        if len(x.group(2)) == 0:\n",
    "            return {\"zip\": \"{}\".format(x.group(1)), \"plus 4\": \"{}\".format(None)}\n",
    "        elif len(x.group(2)) == 4:\n",
    "            return {\"zip\": \"{}\".format(x.group(1)), \"plus 4\": \"{}\".format(x.group(2))}\n",
    "        else:\n",
    "            return None\n",
    "    else:\n",
    "        return None"
   ]
  },
  {
   "cell_type": "code",
   "execution_count": 122,
   "metadata": {
    "collapsed": false
   },
   "outputs": [
    {
     "name": "stdout",
     "output_type": "stream",
     "text": [
      "<class 'str'>\n",
      "<class 'str'>\n"
     ]
    },
    {
     "data": {
      "text/plain": [
       "{'plus 4': '2333', 'zip': '80222'}"
      ]
     },
     "execution_count": 122,
     "metadata": {},
     "output_type": "execute_result"
    }
   ],
   "source": [
    "zipcode(\"80222-2333\")"
   ]
  },
  {
   "cell_type": "code",
   "execution_count": 180,
   "metadata": {
    "collapsed": false
   },
   "outputs": [
    {
     "ename": "NameError",
     "evalue": "name 'groups' is not defined",
     "output_type": "error",
     "traceback": [
      "\u001b[0;31m---------------------------------------------------------------------------\u001b[0m",
      "\u001b[0;31mNameError\u001b[0m                                 Traceback (most recent call last)",
      "\u001b[0;32m<ipython-input-180-cdf69048c37d>\u001b[0m in \u001b[0;36m<module>\u001b[0;34m()\u001b[0m\n\u001b[0;32m----> 1\u001b[0;31m \u001b[0mhelp\u001b[0m\u001b[0;34m(\u001b[0m\u001b[0mgroups\u001b[0m\u001b[0;34m)\u001b[0m\u001b[0;34m\u001b[0m\u001b[0m\n\u001b[0m",
      "\u001b[0;31mNameError\u001b[0m: name 'groups' is not defined"
     ]
    }
   ],
   "source": []
  },
  {
   "cell_type": "code",
   "execution_count": 226,
   "metadata": {
    "collapsed": false
   },
   "outputs": [
    {
     "data": {
      "text/plain": [
       "2"
      ]
     },
     "execution_count": 226,
     "metadata": {},
     "output_type": "execute_result"
    }
   ],
   "source": [
    "x = ['1', '23', '100', '000.1']\n",
    "len(x[0:2])"
   ]
  },
  {
   "cell_type": "code",
   "execution_count": null,
   "metadata": {
    "collapsed": true
   },
   "outputs": [],
   "source": []
  }
 ],
 "metadata": {
  "kernelspec": {
   "display_name": "Python 3",
   "language": "python",
   "name": "python3"
  },
  "language_info": {
   "codemirror_mode": {
    "name": "ipython",
    "version": 3
   },
   "file_extension": ".py",
   "mimetype": "text/x-python",
   "name": "python",
   "nbconvert_exporter": "python",
   "pygments_lexer": "ipython3",
   "version": "3.5.0"
  }
 },
 "nbformat": 4,
 "nbformat_minor": 0
}
